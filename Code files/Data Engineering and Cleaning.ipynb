{
 "cells": [
  {
   "cell_type": "markdown",
   "id": "f7d6ce82",
   "metadata": {},
   "source": [
    "# DATA IMPORT & CLEANING"
   ]
  },
  {
   "cell_type": "code",
   "execution_count": 1,
   "id": "1e452223",
   "metadata": {},
   "outputs": [
    {
     "data": {
      "text/plain": [
       "'/Users/jasonrayen/Downloads/Jason Masters/Sem 3/AIT 664 (Information, Visualization & Representation)/Project'"
      ]
     },
     "execution_count": 1,
     "metadata": {},
     "output_type": "execute_result"
    }
   ],
   "source": [
    "#Importing the libraries\n",
    "import pandas as pd\n",
    "import os\n",
    "import numpy as np\n",
    "import matplotlib.pyplot as plt\n",
    "import seaborn as sns\n",
    "import math\n",
    "\n",
    "os.chdir(\"\") #your directory\n",
    "os.getcwd()"
   ]
  },
  {
   "cell_type": "code",
   "execution_count": 2,
   "id": "5706add5",
   "metadata": {},
   "outputs": [],
   "source": [
    "#Importing the dataset\n",
    "dataset_s1 = pd.read_excel(\"S1 File.xlsx\")\n",
    "dataset_s2 = pd.read_excel(\"S2 File.xlsx\")"
   ]
  },
  {
   "cell_type": "code",
   "execution_count": 3,
   "id": "31dc4c53",
   "metadata": {},
   "outputs": [],
   "source": [
    "#Creating a copy of the dataframe\n",
    "dataset_s1_cleaned = dataset_s1"
   ]
  },
  {
   "cell_type": "code",
   "execution_count": 4,
   "id": "c43f77d5",
   "metadata": {},
   "outputs": [
    {
     "name": "stdout",
     "output_type": "stream",
     "text": [
      "(801, 79)\n"
     ]
    }
   ],
   "source": [
    "#Number of rows and columns in the dataset - S1\n",
    "print(dataset_s1_cleaned.shape)"
   ]
  },
  {
   "cell_type": "code",
   "execution_count": 5,
   "id": "81ffef4a",
   "metadata": {},
   "outputs": [
    {
     "name": "stdout",
     "output_type": "stream",
     "text": [
      "(801, 79)\n"
     ]
    }
   ],
   "source": [
    "#Number of rows and columns in the dataset - S2\n",
    "print(dataset_s1_cleaned.shape)"
   ]
  },
  {
   "cell_type": "code",
   "execution_count": 6,
   "id": "a5eb7903",
   "metadata": {},
   "outputs": [
    {
     "data": {
      "text/plain": [
       "Census tract                                      0\n",
       "The number of crime incidents                     0\n",
       "Total population                                  0\n",
       "Male population                                   0\n",
       "Percent of male population                        3\n",
       "                                                 ..\n",
       "Percent of population of public administration    4\n",
       "Population of other services                      0\n",
       "Percent of population of other services           4\n",
       "Median income                                     5\n",
       "Mean income                                       3\n",
       "Length: 79, dtype: int64"
      ]
     },
     "execution_count": 6,
     "metadata": {},
     "output_type": "execute_result"
    }
   ],
   "source": [
    "#Checking the number of Null values in the dataset\n",
    "dataset_s1_cleaned.isnull().sum()"
   ]
  },
  {
   "cell_type": "code",
   "execution_count": 7,
   "id": "60cdc382",
   "metadata": {},
   "outputs": [
    {
     "name": "stdout",
     "output_type": "stream",
     "text": [
      "Number of variables with null values: 40\n",
      "Percent of male population                                                                                      3\n",
      "Percent of female population                                                                                    3\n",
      "Median age                                                                                                      3\n",
      "Percent of under 16 years                                                                                       3\n",
      "Percent of over 65 years                                                                                        3\n",
      "Percent of occupied housing units                                                                               3\n",
      "Percent of vacant housing units                                                                                 3\n",
      "Median housing value                                                                                            9\n",
      "Percent of less than 9th grade                                                                                  3\n",
      "Percent of 9th to 12th grade                                                                                    3\n",
      "Percent of high school graduate                                                                                 3\n",
      "Percent of some college                                                                                         3\n",
      "Percent of associate’s degree                                                                                   3\n",
      "Percent of bachelor’s degree                                                                                    3\n",
      "Percent of graduate or professional degree                                                                      3\n",
      "Percent of high school graduate or higher                                                                       3\n",
      "Percent of bachelor’s degree of higher                                                                          3\n",
      "Percent of less than high school graduate                                                                       3\n",
      "Percent of less than bachelor’s degree                                                                          3\n",
      "Percent of over 16 years                                                                                        3\n",
      "Percent of population in labor force                                                                            3\n",
      "Percent of population not in labor force                                                                        3\n",
      "Percent of employed population                                                                                  3\n",
      "Percent of unemployed population                                                                                3\n",
      "Percent of population not in labor force and unemployed population                                              3\n",
      "Percent of population of agriculture, forestry, fishing, hunting, and mining                                    4\n",
      "Percent of population of construction                                                                           4\n",
      "Percent of population of manufacturing                                                                          4\n",
      "Percent of population of wholesale trade                                                                        4\n",
      "Percent of population of retail trade                                                                           4\n",
      "Percent of population of transportation, warehousing, and utilities                                             4\n",
      "Percent of population of information                                                                            4\n",
      "Percent of population of finance, insurance, real estate, rental, and leasing                                   4\n",
      "Percent of population of professional, scientific, management, administrative, and waste management services    4\n",
      "Percent of population of educational services, health care, and social assistance                               4\n",
      "Percent of population of arts, entertainment, recreation, accommodation, and food services                      4\n",
      "Percent of population of public administration                                                                  4\n",
      "Percent of population of other services                                                                         4\n",
      "Median income                                                                                                   5\n",
      "Mean income                                                                                                     3\n",
      "dtype: int64\n"
     ]
    }
   ],
   "source": [
    "# Assuming df is your DataFrame\n",
    "null_counts = dataset_s1_cleaned.isnull().sum()\n",
    "variables_with_nulls = null_counts[null_counts > 0]\n",
    "\n",
    "print(f\"Number of variables with null values: {len(variables_with_nulls)}\")\n",
    "print(variables_with_nulls)"
   ]
  },
  {
   "cell_type": "code",
   "execution_count": 8,
   "id": "79e36bf9",
   "metadata": {},
   "outputs": [
    {
     "data": {
      "text/plain": [
       "141"
      ]
     },
     "execution_count": 8,
     "metadata": {},
     "output_type": "execute_result"
    }
   ],
   "source": [
    "#Total Null values\n",
    "dataset_s1_cleaned.isnull().sum().sum()"
   ]
  },
  {
   "cell_type": "code",
   "execution_count": 9,
   "id": "190da173",
   "metadata": {},
   "outputs": [
    {
     "name": "stdout",
     "output_type": "stream",
     "text": [
      "Columns with null values: ['Percent of male population', 'Percent of female population', 'Median age', 'Percent of under 16 years', 'Percent of over 65 years', 'Percent of occupied housing units', 'Percent of vacant housing units', 'Median housing value', 'Percent of less than 9th grade', 'Percent of 9th to 12th grade', 'Percent of high school graduate', 'Percent of some college', 'Percent of associate’s degree', 'Percent of bachelor’s degree', 'Percent of graduate or professional degree', 'Percent of high school graduate or higher', 'Percent of bachelor’s degree of higher', 'Percent of less than high school graduate', 'Percent of less than bachelor’s degree', 'Percent of over 16 years', 'Percent of population in labor force', 'Percent of population not in labor force', 'Percent of employed population', 'Percent of unemployed population', 'Percent of population not in labor force and unemployed population', 'Percent of population of agriculture, forestry, fishing, hunting, and mining', 'Percent of population of construction', 'Percent of population of manufacturing', 'Percent of population of wholesale trade', 'Percent of population of retail trade', 'Percent of population of transportation, warehousing, and utilities', 'Percent of population of information', 'Percent of population of finance, insurance, real estate, rental, and leasing', 'Percent of population of professional, scientific, management, administrative, and waste management services', 'Percent of population of educational services, health care, and social assistance', 'Percent of population of arts, entertainment, recreation, accommodation, and food services', 'Percent of population of public administration', 'Percent of population of other services', 'Median income', 'Mean income']\n"
     ]
    }
   ],
   "source": [
    "#Columns that have null values\n",
    "columns_with_null = dataset_s1_cleaned.columns[dataset_s1_cleaned.isnull().any()].tolist()\n",
    "print(\"Columns with null values:\", columns_with_null)"
   ]
  },
  {
   "cell_type": "code",
   "execution_count": 10,
   "id": "8c5faa89",
   "metadata": {},
   "outputs": [
    {
     "name": "stdout",
     "output_type": "stream",
     "text": [
      "Number of unique census values is: 801\n"
     ]
    }
   ],
   "source": [
    "#Number of Unique Census tracts in the dataset\n",
    "print(\"Number of unique census values is: {}\".format(dataset_s1_cleaned[\"Census tract\"].nunique()))"
   ]
  },
  {
   "cell_type": "markdown",
   "id": "f824ce2a",
   "metadata": {},
   "source": [
    "We have to find out the crime incidents occuring per census. So let's consider the columns which are really necessary for the analysis. Before that, Let's check the correlation matrix and remove the correlated variables."
   ]
  },
  {
   "cell_type": "markdown",
   "id": "f0614a90",
   "metadata": {},
   "source": [
    "# CORRELATION MATRIX "
   ]
  },
  {
   "cell_type": "code",
   "execution_count": 11,
   "id": "f1e3fca4",
   "metadata": {},
   "outputs": [
    {
     "name": "stdout",
     "output_type": "stream",
     "text": [
      "Correlation Matrix:\n",
      "                                                Census tract  \\\n",
      "Census tract                                        1.000000   \n",
      "Total population                                   -0.104293   \n",
      "Male population                                    -0.115336   \n",
      "Percent of male population                         -0.176175   \n",
      "Female population                                  -0.087792   \n",
      "...                                                      ...   \n",
      "Percent of population of public administration     -0.031653   \n",
      "Population of other services                        0.051515   \n",
      "Percent of population of other services             0.254840   \n",
      "Median income                                      -0.317694   \n",
      "Mean income                                        -0.354512   \n",
      "\n",
      "                                                Total population  \\\n",
      "Census tract                                           -0.104293   \n",
      "Total population                                        1.000000   \n",
      "Male population                                         0.976019   \n",
      "Percent of male population                              0.174328   \n",
      "Female population                                       0.974817   \n",
      "...                                                          ...   \n",
      "Percent of population of public administration          0.059197   \n",
      "Population of other services                            0.481871   \n",
      "Percent of population of other services                -0.018195   \n",
      "Median income                                           0.085335   \n",
      "Mean income                                             0.064661   \n",
      "\n",
      "                                                Male population  \\\n",
      "Census tract                                          -0.115336   \n",
      "Total population                                       0.976019   \n",
      "Male population                                        1.000000   \n",
      "Percent of male population                             0.349596   \n",
      "Female population                                      0.902895   \n",
      "...                                                         ...   \n",
      "Percent of population of public administration         0.070489   \n",
      "Population of other services                           0.441789   \n",
      "Percent of population of other services               -0.056299   \n",
      "Median income                                          0.099683   \n",
      "Mean income                                            0.074844   \n",
      "\n",
      "                                                Percent of male population  \\\n",
      "Census tract                                                     -0.176175   \n",
      "Total population                                                  0.174328   \n",
      "Male population                                                   0.349596   \n",
      "Percent of male population                                        1.000000   \n",
      "Female population                                                -0.014218   \n",
      "...                                                                    ...   \n",
      "Percent of population of public administration                    0.009177   \n",
      "Population of other services                                     -0.016377   \n",
      "Percent of population of other services                          -0.223288   \n",
      "Median income                                                     0.197932   \n",
      "Mean income                                                       0.160603   \n",
      "\n",
      "                                                Female population  \\\n",
      "Census tract                                            -0.087792   \n",
      "Total population                                         0.974817   \n",
      "Male population                                          0.902895   \n",
      "Percent of male population                              -0.014218   \n",
      "Female population                                        1.000000   \n",
      "...                                                           ...   \n",
      "Percent of population of public administration           0.044618   \n",
      "Population of other services                             0.498961   \n",
      "Percent of population of other services                  0.021807   \n",
      "Median income                                            0.066322   \n",
      "Mean income                                              0.050957   \n",
      "\n",
      "                                                Percent of female population  \\\n",
      "Census tract                                                        0.176175   \n",
      "Total population                                                   -0.174328   \n",
      "Male population                                                    -0.349596   \n",
      "Percent of male population                                         -1.000000   \n",
      "Female population                                                   0.014218   \n",
      "...                                                                      ...   \n",
      "Percent of population of public administration                     -0.009177   \n",
      "Population of other services                                        0.016377   \n",
      "Percent of population of other services                             0.223288   \n",
      "Median income                                                      -0.197932   \n",
      "Mean income                                                        -0.160603   \n",
      "\n",
      "                                                Median age  Under 16 years  \\\n",
      "Census tract                                     -0.047814        0.084979   \n",
      "Total population                                  0.045190        0.760851   \n",
      "Male population                                   0.011077        0.722096   \n",
      "Percent of male population                       -0.153696        0.056720   \n",
      "Female population                                 0.077898        0.762701   \n",
      "...                                                    ...             ...   \n",
      "Percent of population of public administration   -0.048967        0.132751   \n",
      "Population of other services                      0.342529        0.294331   \n",
      "Percent of population of other services           0.344229        0.001969   \n",
      "Median income                                     0.122312       -0.265354   \n",
      "Mean income                                       0.091893       -0.290693   \n",
      "\n",
      "                                                Percent of under 16 years  \\\n",
      "Census tract                                                     0.294639   \n",
      "Total population                                                -0.008679   \n",
      "Male population                                                 -0.033906   \n",
      "Percent of male population                                      -0.169868   \n",
      "Female population                                                0.017631   \n",
      "...                                                                   ...   \n",
      "Percent of population of public administration                   0.160532   \n",
      "Population of other services                                    -0.098654   \n",
      "Percent of population of other services                          0.043195   \n",
      "Median income                                                   -0.564707   \n",
      "Mean income                                                     -0.563268   \n",
      "\n",
      "                                                Over 65 years  ...  \\\n",
      "Census tract                                        -0.072308  ...   \n",
      "Total population                                     0.654320  ...   \n",
      "Male population                                      0.583979  ...   \n",
      "Percent of male population                          -0.104808  ...   \n",
      "Female population                                    0.693829  ...   \n",
      "...                                                       ...  ...   \n",
      "Percent of population of public administration       0.043173  ...   \n",
      "Population of other services                         0.526008  ...   \n",
      "Percent of population of other services              0.225329  ...   \n",
      "Median income                                        0.055779  ...   \n",
      "Mean income                                          0.056588  ...   \n",
      "\n",
      "                                                Population of educational services, health care, and social assistance  \\\n",
      "Census tract                                                                            -0.229184                        \n",
      "Total population                                                                         0.721053                        \n",
      "Male population                                                                          0.677600                        \n",
      "Percent of male population                                                               0.049018                        \n",
      "Female population                                                                        0.729696                        \n",
      "...                                                                                           ...                        \n",
      "Percent of population of public administration                                          -0.065459                        \n",
      "Population of other services                                                             0.479315                        \n",
      "Percent of population of other services                                                  0.015810                        \n",
      "Median income                                                                            0.356232                        \n",
      "Mean income                                                                              0.339878                        \n",
      "\n",
      "                                                Percent of population of educational services, health care, and social assistance  \\\n",
      "Census tract                                                                             0.102646                                   \n",
      "Total population                                                                        -0.198524                                   \n",
      "Male population                                                                         -0.253251                                   \n",
      "Percent of male population                                                              -0.362162                                   \n",
      "Female population                                                                       -0.132343                                   \n",
      "...                                                                                           ...                                   \n",
      "Percent of population of public administration                                          -0.095132                                   \n",
      "Population of other services                                                             0.023334                                   \n",
      "Percent of population of other services                                                  0.179395                                   \n",
      "Median income                                                                           -0.075547                                   \n",
      "Mean income                                                                             -0.057449                                   \n",
      "\n",
      "                                                Population of arts, entertainment, recreation, accommodation, and food services  \\\n",
      "Census tract                                                                            -0.227358                                 \n",
      "Total population                                                                         0.638062                                 \n",
      "Male population                                                                          0.666299                                 \n",
      "Percent of male population                                                               0.347523                                 \n",
      "Female population                                                                        0.577391                                 \n",
      "...                                                                                           ...                                 \n",
      "Percent of population of public administration                                           0.062377                                 \n",
      "Population of other services                                                             0.148765                                 \n",
      "Percent of population of other services                                                 -0.254467                                 \n",
      "Median income                                                                            0.106476                                 \n",
      "Mean income                                                                              0.095472                                 \n",
      "\n",
      "                                                Percent of population of arts, entertainment, recreation, accommodation, and food services  \\\n",
      "Census tract                                                                            -0.057609                                            \n",
      "Total population                                                                         0.016612                                            \n",
      "Male population                                                                          0.080373                                            \n",
      "Percent of male population                                                               0.308335                                            \n",
      "Female population                                                                       -0.049626                                            \n",
      "...                                                                                           ...                                            \n",
      "Percent of population of public administration                                           0.068002                                            \n",
      "Population of other services                                                            -0.227051                                            \n",
      "Percent of population of other services                                                 -0.289296                                            \n",
      "Median income                                                                           -0.209680                                            \n",
      "Mean income                                                                             -0.198186                                            \n",
      "\n",
      "                                                Population of public administration  \\\n",
      "Census tract                                                              -0.273942   \n",
      "Total population                                                           0.720122   \n",
      "Male population                                                            0.720242   \n",
      "Percent of male population                                                 0.228979   \n",
      "Female population                                                          0.684173   \n",
      "...                                                                             ...   \n",
      "Percent of population of public administration                             0.527918   \n",
      "Population of other services                                               0.296133   \n",
      "Percent of population of other services                                   -0.127797   \n",
      "Median income                                                              0.118245   \n",
      "Mean income                                                                0.104670   \n",
      "\n",
      "                                                Percent of population of public administration  \\\n",
      "Census tract                                                                         -0.031653   \n",
      "Total population                                                                      0.059197   \n",
      "Male population                                                                       0.070489   \n",
      "Percent of male population                                                            0.009177   \n",
      "Female population                                                                     0.044618   \n",
      "...                                                                                        ...   \n",
      "Percent of population of public administration                                        1.000000   \n",
      "Population of other services                                                         -0.073684   \n",
      "Percent of population of other services                                              -0.066521   \n",
      "Median income                                                                        -0.249690   \n",
      "Mean income                                                                          -0.235095   \n",
      "\n",
      "                                                Population of other services  \\\n",
      "Census tract                                                        0.051515   \n",
      "Total population                                                    0.481871   \n",
      "Male population                                                     0.441789   \n",
      "Percent of male population                                         -0.016377   \n",
      "Female population                                                   0.498961   \n",
      "...                                                                      ...   \n",
      "Percent of population of public administration                     -0.073684   \n",
      "Population of other services                                        1.000000   \n",
      "Percent of population of other services                             0.711624   \n",
      "Median income                                                       0.186829   \n",
      "Mean income                                                         0.112396   \n",
      "\n",
      "                                                Percent of population of other services  \\\n",
      "Census tract                                                                   0.254840   \n",
      "Total population                                                              -0.018195   \n",
      "Male population                                                               -0.056299   \n",
      "Percent of male population                                                    -0.223288   \n",
      "Female population                                                              0.021807   \n",
      "...                                                                                 ...   \n",
      "Percent of population of public administration                                -0.066521   \n",
      "Population of other services                                                   0.711624   \n",
      "Percent of population of other services                                        1.000000   \n",
      "Median income                                                                 -0.044553   \n",
      "Mean income                                                                   -0.100431   \n",
      "\n",
      "                                                Median income  Mean income  \n",
      "Census tract                                        -0.317694    -0.354512  \n",
      "Total population                                     0.085335     0.064661  \n",
      "Male population                                      0.099683     0.074844  \n",
      "Percent of male population                           0.197932     0.160603  \n",
      "Female population                                    0.066322     0.050957  \n",
      "...                                                       ...          ...  \n",
      "Percent of population of public administration      -0.249690    -0.235095  \n",
      "Population of other services                         0.186829     0.112396  \n",
      "Percent of population of other services             -0.044553    -0.100431  \n",
      "Median income                                        1.000000     0.949718  \n",
      "Mean income                                          0.949718     1.000000  \n",
      "\n",
      "[78 rows x 78 columns]\n"
     ]
    }
   ],
   "source": [
    "#Correlation values\n",
    "correlation_matrix = dataset_s1_cleaned.corr()\n",
    "print(\"Correlation Matrix:\")\n",
    "print(correlation_matrix)"
   ]
  },
  {
   "cell_type": "code",
   "execution_count": 12,
   "id": "ea6e7544",
   "metadata": {},
   "outputs": [
    {
     "name": "stdout",
     "output_type": "stream",
     "text": [
      "Total population - Male population : correlation = 0.9760193250538579\n",
      "Total population - Female population : correlation = 0.974816673759532\n",
      "Total population - Over 25 years : correlation = 0.956184465580599\n",
      "Total population - Over 16 years : correlation = 0.9797757158651133\n",
      "Total population - Population in labor force : correlation = 0.9083976773372419\n",
      "Male population - Female population : correlation = 0.9028947188138949\n",
      "Male population - Over 25 years : correlation = 0.9343491448970911\n",
      "Male population - Over 16 years : correlation = 0.9626040652492975\n",
      "Percent of male population - Percent of female population : correlation = -1.0\n",
      "Female population - Over 25 years : correlation = 0.9309831609766871\n",
      "Female population - Over 16 years : correlation = 0.9486230065177955\n",
      "Percent of under 16 years - Percent of over 16 years : correlation = -1.0\n",
      "Total housing units - Occupied housing units : correlation = 0.9873782587114923\n",
      "Total housing units - Over 25 years : correlation = 0.9030277976037915\n",
      "Occupied housing units - Over 25 years : correlation = 0.9273128396887107\n",
      "Occupied housing units - Population in labor force : correlation = 0.927762537814297\n",
      "Occupied housing units - Employed population : correlation = 0.920537099146989\n",
      "Percent of occupied housing units - Percent of vacant housing units : correlation = -1.0\n",
      "Over 25 years - Over 16 years : correlation = 0.9828079942809218\n",
      "Over 25 years - Population in labor force : correlation = 0.9518415754674034\n",
      "Over 25 years - Employed population : correlation = 0.9293353496955552\n",
      "Percent of bachelor’s degree - Percent of bachelor’s degree of higher : correlation = 0.9600288712446148\n",
      "Percent of bachelor’s degree - Percent of less than bachelor’s degree : correlation = -0.9600288712446146\n",
      "Percent of graduate or professional degree - Percent of bachelor’s degree of higher : correlation = 0.9461836602046586\n",
      "Percent of graduate or professional degree - Percent of less than bachelor’s degree : correlation = -0.9461836602046588\n",
      "Percent of high school graduate or higher - Percent of less than high school graduate : correlation = -1.0\n",
      "Percent of bachelor’s degree of higher - Percent of less than bachelor’s degree : correlation = -1.0000000000000002\n",
      "Over 16 years - Population in labor force : correlation = 0.9425803716110462\n",
      "Over 16 years - Employed population : correlation = 0.9132580882417736\n",
      "Population in labor force - Employed population : correlation = 0.9910758217505763\n",
      "Percent of population in labor force - Percent of population not in labor force : correlation = -0.99999985976694\n",
      "Percent of population in labor force - Percent of employed population : correlation = 0.9297968145703142\n",
      "Percent of population in labor force - Percent of population not in labor force and unemployed population : correlation = -0.9298840240645645\n",
      "Population not in labor force - Population not in labor force and unemployed population : correlation = 0.9831722300878416\n",
      "Percent of population not in labor force - Percent of employed population : correlation = -0.9297954134891193\n",
      "Percent of population not in labor force - Percent of population not in labor force and unemployed population : correlation = 0.9298828240180159\n",
      "Percent of employed population - Percent of population not in labor force and unemployed population : correlation = -0.9999622071472473\n",
      "Median income - Mean income : correlation = 0.9497181632212526\n"
     ]
    }
   ],
   "source": [
    "#Correlation values - greater than 0.9\n",
    "high_correlation_pairs = []\n",
    "for i in range(len(correlation_matrix.columns)):\n",
    "    for j in range(i+1, len(correlation_matrix.columns)):\n",
    "        if abs(correlation_matrix.iloc[i, j]) > 0.9:\n",
    "            high_correlation_pairs.append((correlation_matrix.columns[i], correlation_matrix.columns[j], correlation_matrix.iloc[i, j]))\n",
    "\n",
    "\n",
    "for pair in high_correlation_pairs:\n",
    "    print(pair[0], \"-\", pair[1], \": correlation =\", pair[2])"
   ]
  },
  {
   "cell_type": "code",
   "execution_count": 13,
   "id": "b6430ede",
   "metadata": {},
   "outputs": [],
   "source": [
    "#Removing certain variables with high correlation of 0.9 and above\n",
    "columns_to_remove = ['Male population', 'Female population', 'Over 25 years', 'Over 16 years', 'Population in labor force'\n",
    "                    , 'Occupied housing units', 'Percent of bachelor’s degree of higher', 'Percent of less than bachelor’s degree'\n",
    "                    , 'Percent of high school graduate or higher', 'Percent of less than high school graduate', 'Percent of population in labor force', \n",
    "                     'Population not in labor force', 'Population not in labor force and unemployed population', 'Median income', 'Employed population',\n",
    "                    'Percent of male population', 'Percent of female population', 'Percent of under 16 years', 'Percent of over 16 years', \n",
    "                    'Percent of occupied housing units', 'Percent of vacant housing units', 'Percent of population not in labor force', \n",
    "                     'Percent of population not in labor force and unemployed population', 'Employed population', 'Unemployed population',\n",
    "                    'Percent of over 65 years', 'Under 16 years', 'Over 65 years', 'Population of agriculture, forestry, fishing, hunting, and mining',\n",
    "                    'Population of construction', 'Population of manufacturing', 'Population of wholesale trade', 'Population of retail trade',\n",
    "                    'Population of transportation, warehousing, and utilities', 'Population of information', 'Population of finance, insurance, real estate, rental, and leasing',\n",
    "                    'Population of professional, scientific, management, administrative, and waste management services', 'Population of educational services, health care, and social assistance',\n",
    "                    'Population of arts, entertainment, recreation, accommodation, and food services', 'Population of public administration', 'Population of other services']\n",
    "dataset_s1_cleaned = dataset_s1_cleaned.drop(columns = columns_to_remove)"
   ]
  },
  {
   "cell_type": "code",
   "execution_count": 14,
   "id": "f4dc0755",
   "metadata": {},
   "outputs": [
    {
     "data": {
      "text/plain": [
       "Census tract                                                                                                    0\n",
       "The number of crime incidents                                                                                   0\n",
       "Total population                                                                                                0\n",
       "Median age                                                                                                      3\n",
       "White                                                                                                           0\n",
       "Black or African American                                                                                       0\n",
       "American Indian or Alaska Native                                                                                0\n",
       "Asian                                                                                                           0\n",
       "Native Hawaiian and Other Pacific Islander                                                                      0\n",
       "Some other race                                                                                                 0\n",
       "Two or more races                                                                                               0\n",
       "Hispanic or Latino                                                                                              0\n",
       "Not Hispani or Latino                                                                                           0\n",
       "Total housing units                                                                                             0\n",
       "Vacant housing units                                                                                            0\n",
       "Median housing value                                                                                            9\n",
       "Percent of less than 9th grade                                                                                  3\n",
       "Percent of 9th to 12th grade                                                                                    3\n",
       "Percent of high school graduate                                                                                 3\n",
       "Percent of some college                                                                                         3\n",
       "Percent of associate’s degree                                                                                   3\n",
       "Percent of bachelor’s degree                                                                                    3\n",
       "Percent of graduate or professional degree                                                                      3\n",
       "Percent of employed population                                                                                  3\n",
       "Percent of unemployed population                                                                                3\n",
       "Percent of population of agriculture, forestry, fishing, hunting, and mining                                    4\n",
       "Percent of population of construction                                                                           4\n",
       "Percent of population of manufacturing                                                                          4\n",
       "Percent of population of wholesale trade                                                                        4\n",
       "Percent of population of retail trade                                                                           4\n",
       "Percent of population of transportation, warehousing, and utilities                                             4\n",
       "Percent of population of information                                                                            4\n",
       "Percent of population of finance, insurance, real estate, rental, and leasing                                   4\n",
       "Percent of population of professional, scientific, management, administrative, and waste management services    4\n",
       "Percent of population of educational services, health care, and social assistance                               4\n",
       "Percent of population of arts, entertainment, recreation, accommodation, and food services                      4\n",
       "Percent of population of public administration                                                                  4\n",
       "Percent of population of other services                                                                         4\n",
       "Mean income                                                                                                     3\n",
       "dtype: int64"
      ]
     },
     "execution_count": 14,
     "metadata": {},
     "output_type": "execute_result"
    }
   ],
   "source": [
    "#Now again checking the Null values - Post correlation removal\n",
    "dataset_s1_cleaned.isnull().sum()"
   ]
  },
  {
   "cell_type": "code",
   "execution_count": 15,
   "id": "0ef08309",
   "metadata": {},
   "outputs": [],
   "source": [
    "#Filling up the null values with the mean of the column\n",
    "for column in dataset_s1_cleaned.columns:\n",
    "    if dataset_s1_cleaned[column].isnull().any():\n",
    "        mean_value = dataset_s1_cleaned[column].mean()\n",
    "        dataset_s1_cleaned[column] = dataset_s1_cleaned[column].fillna(mean_value)\n",
    "        dataset_s1_cleaned[column] = dataset_s1_cleaned[column].round(2)"
   ]
  },
  {
   "cell_type": "code",
   "execution_count": 16,
   "id": "ae3a6d3b",
   "metadata": {},
   "outputs": [
    {
     "data": {
      "text/plain": [
       "Census tract                                                                                                    0\n",
       "The number of crime incidents                                                                                   0\n",
       "Total population                                                                                                0\n",
       "Median age                                                                                                      0\n",
       "White                                                                                                           0\n",
       "Black or African American                                                                                       0\n",
       "American Indian or Alaska Native                                                                                0\n",
       "Asian                                                                                                           0\n",
       "Native Hawaiian and Other Pacific Islander                                                                      0\n",
       "Some other race                                                                                                 0\n",
       "Two or more races                                                                                               0\n",
       "Hispanic or Latino                                                                                              0\n",
       "Not Hispani or Latino                                                                                           0\n",
       "Total housing units                                                                                             0\n",
       "Vacant housing units                                                                                            0\n",
       "Median housing value                                                                                            0\n",
       "Percent of less than 9th grade                                                                                  0\n",
       "Percent of 9th to 12th grade                                                                                    0\n",
       "Percent of high school graduate                                                                                 0\n",
       "Percent of some college                                                                                         0\n",
       "Percent of associate’s degree                                                                                   0\n",
       "Percent of bachelor’s degree                                                                                    0\n",
       "Percent of graduate or professional degree                                                                      0\n",
       "Percent of employed population                                                                                  0\n",
       "Percent of unemployed population                                                                                0\n",
       "Percent of population of agriculture, forestry, fishing, hunting, and mining                                    0\n",
       "Percent of population of construction                                                                           0\n",
       "Percent of population of manufacturing                                                                          0\n",
       "Percent of population of wholesale trade                                                                        0\n",
       "Percent of population of retail trade                                                                           0\n",
       "Percent of population of transportation, warehousing, and utilities                                             0\n",
       "Percent of population of information                                                                            0\n",
       "Percent of population of finance, insurance, real estate, rental, and leasing                                   0\n",
       "Percent of population of professional, scientific, management, administrative, and waste management services    0\n",
       "Percent of population of educational services, health care, and social assistance                               0\n",
       "Percent of population of arts, entertainment, recreation, accommodation, and food services                      0\n",
       "Percent of population of public administration                                                                  0\n",
       "Percent of population of other services                                                                         0\n",
       "Mean income                                                                                                     0\n",
       "dtype: int64"
      ]
     },
     "execution_count": 16,
     "metadata": {},
     "output_type": "execute_result"
    }
   ],
   "source": [
    "#Final Check of Null values\n",
    "dataset_s1_cleaned.isnull().sum()"
   ]
  },
  {
   "cell_type": "markdown",
   "id": "cd87190d",
   "metadata": {},
   "source": [
    "We have the same 801 values but now with no null values. All null values have been fixed with the help of correlation and the mean of the columns are taken and filled in the missing spaces"
   ]
  },
  {
   "cell_type": "code",
   "execution_count": 17,
   "id": "48f06d29",
   "metadata": {},
   "outputs": [],
   "source": [
    "#Transfering output file to R\n",
    "dataset_s1_cleaned.to_csv(r'dataset_s1_cleaned.csv', index=False)"
   ]
  },
  {
   "cell_type": "code",
   "execution_count": null,
   "id": "124cd86f",
   "metadata": {},
   "outputs": [],
   "source": []
  },
  {
   "cell_type": "code",
   "execution_count": null,
   "id": "a7bec983",
   "metadata": {},
   "outputs": [],
   "source": []
  },
  {
   "cell_type": "code",
   "execution_count": null,
   "id": "23f8cd76",
   "metadata": {},
   "outputs": [],
   "source": []
  },
  {
   "cell_type": "code",
   "execution_count": null,
   "id": "fc86d061",
   "metadata": {},
   "outputs": [],
   "source": []
  },
  {
   "cell_type": "code",
   "execution_count": null,
   "id": "19883fe5",
   "metadata": {},
   "outputs": [],
   "source": []
  },
  {
   "cell_type": "code",
   "execution_count": null,
   "id": "cafaec01",
   "metadata": {},
   "outputs": [],
   "source": []
  },
  {
   "cell_type": "code",
   "execution_count": null,
   "id": "ee657626",
   "metadata": {},
   "outputs": [],
   "source": []
  },
  {
   "cell_type": "code",
   "execution_count": null,
   "id": "3ba799d7",
   "metadata": {},
   "outputs": [],
   "source": []
  },
  {
   "cell_type": "code",
   "execution_count": null,
   "id": "96c91717",
   "metadata": {},
   "outputs": [],
   "source": []
  },
  {
   "cell_type": "code",
   "execution_count": null,
   "id": "b4f1c38d",
   "metadata": {},
   "outputs": [],
   "source": []
  },
  {
   "cell_type": "code",
   "execution_count": null,
   "id": "52696ed0",
   "metadata": {},
   "outputs": [],
   "source": []
  },
  {
   "cell_type": "code",
   "execution_count": null,
   "id": "8f14c30b",
   "metadata": {},
   "outputs": [],
   "source": []
  },
  {
   "cell_type": "code",
   "execution_count": null,
   "id": "6705686c",
   "metadata": {},
   "outputs": [],
   "source": []
  },
  {
   "cell_type": "code",
   "execution_count": null,
   "id": "20700c36",
   "metadata": {},
   "outputs": [],
   "source": []
  },
  {
   "cell_type": "code",
   "execution_count": null,
   "id": "7604e56d",
   "metadata": {},
   "outputs": [],
   "source": []
  },
  {
   "cell_type": "code",
   "execution_count": null,
   "id": "f441ee42",
   "metadata": {},
   "outputs": [],
   "source": []
  },
  {
   "cell_type": "code",
   "execution_count": null,
   "id": "9c0da1ad",
   "metadata": {},
   "outputs": [],
   "source": []
  },
  {
   "cell_type": "code",
   "execution_count": null,
   "id": "01f76d44",
   "metadata": {},
   "outputs": [],
   "source": []
  },
  {
   "cell_type": "code",
   "execution_count": null,
   "id": "ca148ad5",
   "metadata": {},
   "outputs": [],
   "source": []
  },
  {
   "cell_type": "code",
   "execution_count": null,
   "id": "12161b37",
   "metadata": {},
   "outputs": [],
   "source": []
  }
 ],
 "metadata": {
  "kernelspec": {
   "display_name": "Python 3 (ipykernel)",
   "language": "python",
   "name": "python3"
  },
  "language_info": {
   "codemirror_mode": {
    "name": "ipython",
    "version": 3
   },
   "file_extension": ".py",
   "mimetype": "text/x-python",
   "name": "python",
   "nbconvert_exporter": "python",
   "pygments_lexer": "ipython3",
   "version": "3.9.13"
  }
 },
 "nbformat": 4,
 "nbformat_minor": 5
}
